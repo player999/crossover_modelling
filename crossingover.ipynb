{
 "cells": [
  {
   "cell_type": "markdown",
   "id": "c61e2f1e",
   "metadata": {},
   "source": [
    "# Генерація генома"
   ]
  },
  {
   "cell_type": "code",
   "execution_count": 2,
   "id": "f0362bb7",
   "metadata": {},
   "outputs": [],
   "source": [
    "#Ген\n",
    "import random\n",
    "class Gene:\n",
    "    def __init__(self):\n",
    "        self.identifier = random.random()\n",
    "        self.owner = \"owner\"\n",
    "        self.order = 0\n",
    "    def __str__(self):\n",
    "        line = \"%s[%d]=%f \"%(self.owner, self.order, self.identifier)\n",
    "        return line\n",
    "\n",
    "def mkGene(owner: str, order: int):\n",
    "    g = Gene()\n",
    "    g.owner = owner\n",
    "    g.order = order\n",
    "    return g"
   ]
  },
  {
   "cell_type": "code",
   "execution_count": 3,
   "id": "053efae5",
   "metadata": {},
   "outputs": [],
   "source": [
    "#Хромосома\n",
    "import copy\n",
    "class Chromosome:\n",
    "    def __init__(self):\n",
    "        self.genes = []\n",
    "        self.pair = -1\n",
    "    def __str__(self):\n",
    "        lines = \"Хромосома з %d пари. На %d генів\\n\"%(self.pair, len(self.genes))\n",
    "        num_to_print = min(5, len(self.genes))\n",
    "        for i in range(0, num_to_print):\n",
    "            lines += str(self.genes[i])\n",
    "        lines += \"...\"\n",
    "        lines += str(self.genes[-1])\n",
    "        lines += \"\\n\"\n",
    "        return lines\n",
    "\n",
    "def mkChromosome(pair_id: int, owner: str, num_genes: int):\n",
    "    c = Chromosome()\n",
    "    c.pair = pair_id\n",
    "    for i in range(0, num_genes):\n",
    "        c.genes.append(mkGene(owner, i))\n",
    "    return c"
   ]
  },
  {
   "cell_type": "code",
   "execution_count": 22,
   "id": "07398132",
   "metadata": {},
   "outputs": [],
   "source": [
    "#Геном\n",
    "class Genome:\n",
    "    def __init__(self):\n",
    "        self.chromosomes = []\n",
    "    def __str__(self):\n",
    "        lines = \"Геном на %d хромосоми\\n\"%(len(self.chromosomes))\n",
    "        for chromosome in self.chromosomes:\n",
    "            lines += str(chromosome)\n",
    "        lines += \"...\\n\"\n",
    "        return lines\n",
    "        \n",
    "def mkGenome(owner: str, chromosome_lengths: int):\n",
    "    g = Genome()\n",
    "    for chromosome_id in range(0, len(chromosome_lengths)):\n",
    "        g.chromosomes.append(mkChromosome(chromosome_id, owner, chromosome_lengths[chromosome_id]))\n",
    "        g.chromosomes.append(mkChromosome(chromosome_id, owner, chromosome_lengths[chromosome_id]))\n",
    "    return g"
   ]
  },
  {
   "cell_type": "code",
   "execution_count": 23,
   "id": "616980e3",
   "metadata": {},
   "outputs": [
    {
     "name": "stdout",
     "output_type": "stream",
     "text": [
      "Геном на 6 хромосоми\n",
      "Хромосома з 0 пари. На 200 генів\n",
      "Frog1[0]=0.675253 Frog1[1]=0.315860 Frog1[2]=0.136631 Frog1[3]=0.045811 Frog1[4]=0.400276 ...Frog1[199]=0.942228 \n",
      "Хромосома з 0 пари. На 200 генів\n",
      "Frog1[0]=0.422981 Frog1[1]=0.471501 Frog1[2]=0.323627 Frog1[3]=0.408860 Frog1[4]=0.482989 ...Frog1[199]=0.446217 \n",
      "Хромосома з 1 пари. На 300 генів\n",
      "Frog1[0]=0.677181 Frog1[1]=0.336475 Frog1[2]=0.372219 Frog1[3]=0.748341 Frog1[4]=0.986958 ...Frog1[299]=0.601624 \n",
      "Хромосома з 1 пари. На 300 генів\n",
      "Frog1[0]=0.827092 Frog1[1]=0.939233 Frog1[2]=0.377816 Frog1[3]=0.511896 Frog1[4]=0.692375 ...Frog1[299]=0.843201 \n",
      "Хромосома з 2 пари. На 400 генів\n",
      "Frog1[0]=0.344375 Frog1[1]=0.774539 Frog1[2]=0.303013 Frog1[3]=0.553613 Frog1[4]=0.652588 ...Frog1[399]=0.907282 \n",
      "Хромосома з 2 пари. На 400 генів\n",
      "Frog1[0]=0.742951 Frog1[1]=0.728846 Frog1[2]=0.551823 Frog1[3]=0.621288 Frog1[4]=0.585013 ...Frog1[399]=0.642459 \n",
      "...\n",
      "\n",
      "Геном на 6 хромосоми\n",
      "Хромосома з 0 пари. На 200 генів\n",
      "Frog2[0]=0.042340 Frog2[1]=0.515805 Frog2[2]=0.818620 Frog2[3]=0.729669 Frog2[4]=0.920869 ...Frog2[199]=0.378002 \n",
      "Хромосома з 0 пари. На 200 генів\n",
      "Frog2[0]=0.945181 Frog2[1]=0.757095 Frog2[2]=0.207437 Frog2[3]=0.598612 Frog2[4]=0.006109 ...Frog2[199]=0.020942 \n",
      "Хромосома з 1 пари. На 300 генів\n",
      "Frog2[0]=0.767025 Frog2[1]=0.452376 Frog2[2]=0.590477 Frog2[3]=0.969304 Frog2[4]=0.913507 ...Frog2[299]=0.256133 \n",
      "Хромосома з 1 пари. На 300 генів\n",
      "Frog2[0]=0.975290 Frog2[1]=0.822792 Frog2[2]=0.628937 Frog2[3]=0.498362 Frog2[4]=0.957026 ...Frog2[299]=0.734914 \n",
      "Хромосома з 2 пари. На 400 генів\n",
      "Frog2[0]=0.835783 Frog2[1]=0.866036 Frog2[2]=0.824653 Frog2[3]=0.810022 Frog2[4]=0.684058 ...Frog2[399]=0.408626 \n",
      "Хромосома з 2 пари. На 400 генів\n",
      "Frog2[0]=0.267104 Frog2[1]=0.682288 Frog2[2]=0.905182 Frog2[3]=0.329037 Frog2[4]=0.841249 ...Frog2[399]=0.865342 \n",
      "...\n",
      "\n"
     ]
    }
   ],
   "source": [
    "#Зробимо жабок\n",
    "chromosome = [200, 300, 400] #Конфігурація пар хромосом жабки\n",
    "frog1 = mkGenome(\"Frog1\", chromosome)\n",
    "frog2 = mkGenome(\"Frog2\", chromosome)\n",
    "print(frog1)\n",
    "print(frog2)"
   ]
  },
  {
   "cell_type": "markdown",
   "id": "349eb443",
   "metadata": {},
   "source": [
    "# Кросінг овер"
   ]
  },
  {
   "cell_type": "code",
   "execution_count": 24,
   "id": "54358ba0",
   "metadata": {},
   "outputs": [],
   "source": [
    "import math\n",
    "\n",
    "npoints = 2 #Скільки точок у кросінговеру\n",
    "\n",
    "#Функція яка вибирає точки кросінговеру\n",
    "def crossover_points(pts, length):\n",
    "    rands = []\n",
    "    for i in range(0, pts):\n",
    "        while True:\n",
    "            point = math.floor(random.random() * length)\n",
    "            if point in rands:\n",
    "                continue\n",
    "            else:\n",
    "                rands.append(point)\n",
    "                break\n",
    "    rands = sorted(rands)\n",
    "    ranges = []\n",
    "    r = {}\n",
    "    r[\"min\"] = 0\n",
    "    for point in rands:\n",
    "        r[\"max\"] = point\n",
    "        ranges.append(r)\n",
    "        r = {}\n",
    "        r[\"min\"] = point\n",
    "    r[\"max\"] = length\n",
    "    ranges.append(r)\n",
    "    return ranges\n",
    "        \n",
    "#Функція що виконує кросінговер двох хромосом\n",
    "def crossover_chromo(ch1: Chromosome, ch2: Chromosome):\n",
    "    if ch1.pair != ch2.pair:\n",
    "        raise Exception(\"Хромосоми не з одної пари\")\n",
    "    length = min(len(ch1.genes), len(ch2.genes))\n",
    "    \n",
    "    ranges = crossover_points(npoints, length)\n",
    "    first = True\n",
    "    res_genes1 = []\n",
    "    res_genes2 = []\n",
    "    for r in ranges:\n",
    "        if first == True:\n",
    "            res_genes1 += ch1.genes[r[\"min\"]:r[\"max\"]]\n",
    "            res_genes2 += ch2.genes[r[\"min\"]:r[\"max\"]]\n",
    "            first = False\n",
    "        else:\n",
    "            res_genes1 += ch2.genes[r[\"min\"]:r[\"max\"]]\n",
    "            res_genes2 += ch1.genes[r[\"min\"]:r[\"max\"]]\n",
    "            first = True\n",
    "\n",
    "    #Якщо хромосоми нерівні\n",
    "    if length < len(ch1.genes):\n",
    "        res_genes1 += ch1.genes[ranges[-1][\"max\"]:-1]\n",
    "        \n",
    "    if length < len(ch2.genes):\n",
    "        res_genes2 += ch2.genes[ranges[-1][\"max\"]:-1]\n",
    "    \n",
    "    #Створюєм дві нові хромосоми\n",
    "    new_ch1 = Chromosome()\n",
    "    new_ch2 = Chromosome()\n",
    "    new_ch1.pair = ch1.pair\n",
    "    new_ch2.pair = ch2.pair\n",
    "    new_ch1.genes = copy.deepcopy(res_genes1)\n",
    "    new_ch2.genes = copy.deepcopy(res_genes2)\n",
    "    \n",
    "    #Перевіримо чи все правильно зроблено\n",
    "    if len(res_genes1) != len(ch1.genes):\n",
    "        raise Exception(\"Не співпадають довжини генів %d vs %d\"%(len(ch1.genes), len(res_genes1)))\n",
    "    if len(res_genes2) != len(ch2.genes):\n",
    "        raise Exception(\"Не співпадають довжини генів %d vs %d\"%(len(ch2.genes), len(res_genes2)))\n",
    "    return (new_ch1, new_ch2)\n",
    "    "
   ]
  },
  {
   "cell_type": "code",
   "execution_count": 25,
   "id": "b95ff58c",
   "metadata": {},
   "outputs": [
    {
     "name": "stdout",
     "output_type": "stream",
     "text": [
      "Стара хромосома 1\n",
      "Хромосома з 0 пари. На 200 генів\n",
      "Frog1[0]=0.675253 Frog1[1]=0.315860 Frog1[2]=0.136631 Frog1[3]=0.045811 Frog1[4]=0.400276 ...Frog1[199]=0.942228 \n",
      "\n",
      "Нова хромосома 1\n",
      "Хромосома з 0 пари. На 200 генів\n",
      "Frog1[0]=0.675253 Frog1[1]=0.315860 Frog1[2]=0.136631 Frog1[3]=0.045811 Frog1[4]=0.400276 ...Frog1[199]=0.942228 \n",
      "\n",
      "Стара хромосома 2\n",
      "Хромосома з 0 пари. На 200 генів\n",
      "Frog1[0]=0.422981 Frog1[1]=0.471501 Frog1[2]=0.323627 Frog1[3]=0.408860 Frog1[4]=0.482989 ...Frog1[199]=0.446217 \n",
      "\n",
      "Нова хромосома 2\n",
      "Хромосома з 0 пари. На 200 генів\n",
      "Frog1[0]=0.422981 Frog1[1]=0.471501 Frog1[2]=0.323627 Frog1[3]=0.408860 Frog1[4]=0.482989 ...Frog1[199]=0.446217 \n",
      "\n"
     ]
    }
   ],
   "source": [
    "(new_ch1, new_ch2) = crossover_chromo(frog1.chromosomes[0], frog1.chromosomes[1])\n",
    "\n",
    "print(\"Стара хромосома 1\")\n",
    "print(frog1.chromosomes[0])\n",
    "print(\"Нова хромосома 1\")\n",
    "print(new_ch1)\n",
    "\n",
    "print(\"Стара хромосома 2\")\n",
    "print(frog1.chromosomes[1])\n",
    "print(\"Нова хромосома 2\")\n",
    "print(new_ch2)"
   ]
  },
  {
   "cell_type": "markdown",
   "id": "d83f544d",
   "metadata": {},
   "source": [
    "# Приготування половинного набору хромосом"
   ]
  },
  {
   "cell_type": "code",
   "execution_count": 33,
   "id": "56dc7f4c",
   "metadata": {},
   "outputs": [],
   "source": [
    "#Функція що виконує мейоз\n",
    "def meiosis(person: Genome):\n",
    "    chromosome_pairs = sorted(list(set(map(lambda x: x.pair, person.chromosomes))))\n",
    "    haplo1 = Genome()\n",
    "    haplo2 = Genome()\n",
    "    for p in chromosome_pairs:\n",
    "        pair = list(filter(lambda x: x.pair == p, person.chromosomes))\n",
    "        if len(pair) != 2:\n",
    "            raise Exception(\"Chromosome pair not exist\")\n",
    "        (new_ch1, new_ch2) = crossover_chromo(pair[0], pair[1])\n",
    "        haplo1.chromosomes.append(new_ch1)\n",
    "        haplo2.chromosomes.append(new_ch2)\n",
    "    return (haplo1, haplo2)"
   ]
  },
  {
   "cell_type": "code",
   "execution_count": 34,
   "id": "0dc9d3ef",
   "metadata": {},
   "outputs": [
    {
     "name": "stdout",
     "output_type": "stream",
     "text": [
      "Повний набір\n",
      "Геном на 6 хромосоми\n",
      "Хромосома з 0 пари. На 200 генів\n",
      "Frog1[0]=0.675253 Frog1[1]=0.315860 Frog1[2]=0.136631 Frog1[3]=0.045811 Frog1[4]=0.400276 ...Frog1[199]=0.942228 \n",
      "Хромосома з 0 пари. На 200 генів\n",
      "Frog1[0]=0.422981 Frog1[1]=0.471501 Frog1[2]=0.323627 Frog1[3]=0.408860 Frog1[4]=0.482989 ...Frog1[199]=0.446217 \n",
      "Хромосома з 1 пари. На 300 генів\n",
      "Frog1[0]=0.677181 Frog1[1]=0.336475 Frog1[2]=0.372219 Frog1[3]=0.748341 Frog1[4]=0.986958 ...Frog1[299]=0.601624 \n",
      "Хромосома з 1 пари. На 300 генів\n",
      "Frog1[0]=0.827092 Frog1[1]=0.939233 Frog1[2]=0.377816 Frog1[3]=0.511896 Frog1[4]=0.692375 ...Frog1[299]=0.843201 \n",
      "Хромосома з 2 пари. На 400 генів\n",
      "Frog1[0]=0.344375 Frog1[1]=0.774539 Frog1[2]=0.303013 Frog1[3]=0.553613 Frog1[4]=0.652588 ...Frog1[399]=0.907282 \n",
      "Хромосома з 2 пари. На 400 генів\n",
      "Frog1[0]=0.742951 Frog1[1]=0.728846 Frog1[2]=0.551823 Frog1[3]=0.621288 Frog1[4]=0.585013 ...Frog1[399]=0.642459 \n",
      "...\n",
      "\n",
      "Половинний набір 1\n",
      "Геном на 3 хромосоми\n",
      "Хромосома з 0 пари. На 200 генів\n",
      "Frog1[0]=0.675253 Frog1[1]=0.315860 Frog1[2]=0.136631 Frog1[3]=0.045811 Frog1[4]=0.400276 ...Frog1[199]=0.942228 \n",
      "Хромосома з 1 пари. На 300 генів\n",
      "Frog1[0]=0.677181 Frog1[1]=0.336475 Frog1[2]=0.372219 Frog1[3]=0.748341 Frog1[4]=0.986958 ...Frog1[299]=0.601624 \n",
      "Хромосома з 2 пари. На 400 генів\n",
      "Frog1[0]=0.344375 Frog1[1]=0.774539 Frog1[2]=0.303013 Frog1[3]=0.553613 Frog1[4]=0.652588 ...Frog1[399]=0.907282 \n",
      "...\n",
      "\n",
      "Половинний набір 2\n",
      "Геном на 3 хромосоми\n",
      "Хромосома з 0 пари. На 200 генів\n",
      "Frog1[0]=0.422981 Frog1[1]=0.471501 Frog1[2]=0.323627 Frog1[3]=0.408860 Frog1[4]=0.482989 ...Frog1[199]=0.446217 \n",
      "Хромосома з 1 пари. На 300 генів\n",
      "Frog1[0]=0.827092 Frog1[1]=0.939233 Frog1[2]=0.377816 Frog1[3]=0.511896 Frog1[4]=0.692375 ...Frog1[299]=0.843201 \n",
      "Хромосома з 2 пари. На 400 генів\n",
      "Frog1[0]=0.742951 Frog1[1]=0.728846 Frog1[2]=0.551823 Frog1[3]=0.621288 Frog1[4]=0.585013 ...Frog1[399]=0.642459 \n",
      "...\n",
      "\n"
     ]
    }
   ],
   "source": [
    "(h1, h2) = meiosis(frog1)\n",
    "print(\"Повний набір\")\n",
    "print(frog1)\n",
    "print(\"Половинний набір 1\")\n",
    "print(h1)\n",
    "print(\"Половинний набір 2\")\n",
    "print(h2)"
   ]
  },
  {
   "cell_type": "markdown",
   "id": "5582f612",
   "metadata": {},
   "source": [
    "# Створення нової особи"
   ]
  },
  {
   "cell_type": "code",
   "execution_count": 35,
   "id": "545c7a51",
   "metadata": {},
   "outputs": [],
   "source": [
    "#Функція відтворення\n",
    "def reproduce(p1: Genome, p2: Genome):\n",
    "    (p1h1, p1h2) = meiosis(p1)\n",
    "    (p2h1, p2h2) = meiosis(p2)\n",
    "\n",
    "    #Випадково вибрати гамету\n",
    "    gameta1 = p1h1 if 0.5 > random.random() else p1h2\n",
    "    gameta2 = p2h1 if 0.5 > random.random() else p2h2\n",
    "    \n",
    "    res = Genome()\n",
    "    if len(gameta1.chromosomes) != len(gameta2.chromosomes):\n",
    "        raise Exception(\"Геноми мають різну кількість хромосом\")\n",
    "    for i in range(0, len(gameta1.chromosomes)):\n",
    "        res.chromosomes.append(gameta1.chromosomes[i])\n",
    "        res.chromosomes.append(gameta2.chromosomes[i])\n",
    "    return res"
   ]
  },
  {
   "cell_type": "code",
   "execution_count": 39,
   "id": "d7903e64",
   "metadata": {},
   "outputs": [
    {
     "name": "stdout",
     "output_type": "stream",
     "text": [
      "Нова жабка\n",
      "Геном на 6 хромосоми\n",
      "Хромосома з 0 пари. На 200 генів\n",
      "Frog1[0]=0.675253 Frog1[1]=0.315860 Frog1[2]=0.136631 Frog1[3]=0.045811 Frog1[4]=0.482989 ...Frog1[199]=0.942228 \n",
      "Хромосома з 0 пари. На 200 генів\n",
      "Frog2[0]=0.945181 Frog2[1]=0.757095 Frog2[2]=0.207437 Frog2[3]=0.598612 Frog2[4]=0.006109 ...Frog2[199]=0.020942 \n",
      "Хромосома з 1 пари. На 300 генів\n",
      "Frog1[0]=0.677181 Frog1[1]=0.336475 Frog1[2]=0.372219 Frog1[3]=0.748341 Frog1[4]=0.986958 ...Frog1[299]=0.601624 \n",
      "Хромосома з 1 пари. На 300 генів\n",
      "Frog2[0]=0.975290 Frog2[1]=0.822792 Frog2[2]=0.628937 Frog2[3]=0.498362 Frog2[4]=0.957026 ...Frog2[299]=0.734914 \n",
      "Хромосома з 2 пари. На 400 генів\n",
      "Frog1[0]=0.344375 Frog1[1]=0.774539 Frog1[2]=0.303013 Frog1[3]=0.553613 Frog1[4]=0.652588 ...Frog1[399]=0.907282 \n",
      "Хромосома з 2 пари. На 400 генів\n",
      "Frog2[0]=0.267104 Frog2[1]=0.682288 Frog2[2]=0.905182 Frog2[3]=0.329037 Frog2[4]=0.841249 ...Frog2[399]=0.865342 \n",
      "...\n",
      "\n"
     ]
    }
   ],
   "source": [
    "new_frog = reproduce(frog1, frog2)\n",
    "print(\"Нова жабка\")\n",
    "print(new_frog)"
   ]
  },
  {
   "cell_type": "markdown",
   "id": "ce986daa",
   "metadata": {},
   "source": [
    "# Обчислення ступеню подібності"
   ]
  },
  {
   "cell_type": "code",
   "execution_count": 44,
   "id": "d85644a0",
   "metadata": {},
   "outputs": [],
   "source": [
    "#Процент співпадіння\n",
    "def match_ratio(owner: str, genome: Genome):\n",
    "    total = 0\n",
    "    matched = 0\n",
    "    for c in genome.chromosomes:\n",
    "        total += len(c.genes)\n",
    "        matched += len(list(filter(lambda x: x.owner == owner, c.genes)))\n",
    "    return matched / total"
   ]
  },
  {
   "cell_type": "code",
   "execution_count": 48,
   "id": "6df000fa",
   "metadata": {},
   "outputs": [
    {
     "name": "stdout",
     "output_type": "stream",
     "text": [
      "Подібність до жабки 1\n",
      "0.5\n",
      "Подібність до жабки 2\n",
      "0.5\n"
     ]
    }
   ],
   "source": [
    "print(\"Подібність до жабки 1\")\n",
    "print(match_ratio(\"Frog1\", new_frog))\n",
    "print(\"Подібність до жабки 2\")\n",
    "print(match_ratio(\"Frog2\", new_frog))"
   ]
  },
  {
   "cell_type": "markdown",
   "id": "20995073",
   "metadata": {},
   "source": [
    "# Подібність до давніх поколінь"
   ]
  },
  {
   "cell_type": "code",
   "execution_count": 51,
   "id": "104b54f7",
   "metadata": {},
   "outputs": [
    {
     "name": "stdout",
     "output_type": "stream",
     "text": [
      "Подібність до жабки Frog1.1\n",
      "0.21\n",
      "Подібність до жабки Frog1.2\n",
      "0.17166666666666666\n",
      "Подібність до жабки Frog2.1\n",
      "0.06111111111111111\n",
      "Подібність до жабки Frog2.2\n",
      "0.05722222222222222\n",
      "Подібність до жабки Frog3.1\n",
      "0.08777777777777777\n",
      "Подібність до жабки Frog3.2\n",
      "0.03833333333333333\n",
      "Подібність до жабки Frog4.1\n",
      "0.26722222222222225\n",
      "Подібність до жабки Frog4.2\n",
      "0.10666666666666667\n"
     ]
    }
   ],
   "source": [
    "frog11 = mkGenome(\"Frog1.1\", chromosome)\n",
    "frog12 = mkGenome(\"Frog1.2\", chromosome)\n",
    "frog51 = reproduce(frog11, frog12)\n",
    "\n",
    "frog21 = mkGenome(\"Frog2.1\", chromosome)\n",
    "frog22 = mkGenome(\"Frog2.2\", chromosome)\n",
    "frog52 = reproduce(frog21, frog22)\n",
    "\n",
    "frog31 = mkGenome(\"Frog3.1\", chromosome)\n",
    "frog32 = mkGenome(\"Frog3.2\", chromosome)\n",
    "frog61 = reproduce(frog31, frog32)\n",
    "\n",
    "frog41 = mkGenome(\"Frog4.1\", chromosome)\n",
    "frog42 = mkGenome(\"Frog4.2\", chromosome)\n",
    "frog62 = reproduce(frog41, frog42)\n",
    "\n",
    "frog71 = reproduce(frog51, frog52)\n",
    "frog72 = reproduce(frog61, frog62)\n",
    "\n",
    "frog81 = reproduce(frog71, frog72)\n",
    "\n",
    "match_list = [\"Frog1.1\", \"Frog1.2\", \"Frog2.1\", \"Frog2.2\", \"Frog3.1\", \"Frog3.2\", \"Frog4.1\", \"Frog4.2\"]\n",
    "for m in match_list:\n",
    "    print(\"Подібність до жабки %s\"%m)\n",
    "    print(match_ratio(m, frog81))\n",
    "\n"
   ]
  },
  {
   "cell_type": "code",
   "execution_count": null,
   "id": "680f1cef",
   "metadata": {},
   "outputs": [],
   "source": []
  }
 ],
 "metadata": {
  "kernelspec": {
   "display_name": "Python 3",
   "language": "python",
   "name": "python3"
  },
  "language_info": {
   "codemirror_mode": {
    "name": "ipython",
    "version": 3
   },
   "file_extension": ".py",
   "mimetype": "text/x-python",
   "name": "python",
   "nbconvert_exporter": "python",
   "pygments_lexer": "ipython3",
   "version": "3.8.9"
  }
 },
 "nbformat": 4,
 "nbformat_minor": 5
}
